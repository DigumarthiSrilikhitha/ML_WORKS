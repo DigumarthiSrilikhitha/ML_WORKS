{
  "nbformat": 4,
  "nbformat_minor": 0,
  "metadata": {
    "colab": {
      "provenance": [],
      "authorship_tag": "ABX9TyOtiuK0UcDPuOwaEoRngRdH",
      "include_colab_link": true
    },
    "kernelspec": {
      "name": "python3",
      "display_name": "Python 3"
    },
    "language_info": {
      "name": "python"
    }
  },
  "cells": [
    {
      "cell_type": "markdown",
      "metadata": {
        "id": "view-in-github",
        "colab_type": "text"
      },
      "source": [
        "<a href=\"https://colab.research.google.com/github/DigumarthiSrilikhitha/ML_WORKS/blob/main/soil_Moisture(_PCA_CALCULATION).ipynb\" target=\"_parent\"><img src=\"https://colab.research.google.com/assets/colab-badge.svg\" alt=\"Open In Colab\"/></a>"
      ]
    },
    {
      "cell_type": "code",
      "execution_count": null,
      "metadata": {
        "colab": {
          "base_uri": "https://localhost:8080/"
        },
        "id": "bLD6sJDrvYPY",
        "outputId": "01d7fc88-8b19-4f40-d31f-68c79f30aa3b"
      },
      "outputs": [
        {
          "output_type": "stream",
          "name": "stdout",
          "text": [
            "      year  month  day  hour  minute  second  moisture0  moisture1  moisture2  \\\n",
            "0     2020      3    6    22      16      11       0.33       0.40       0.36   \n",
            "1     2020      3    6    22      17      11       0.32       0.39       0.35   \n",
            "2     2020      3    6    22      18      11       0.31       0.39       0.34   \n",
            "3     2020      3    6    22      19      11       0.30       0.38       0.33   \n",
            "4     2020      3    6    22      20      11       0.29       0.38       0.33   \n",
            "...    ...    ...  ...   ...     ...     ...        ...        ...        ...   \n",
            "4404  2020      3    9    23      43      52       0.17       0.39       0.52   \n",
            "4405  2020      3    9    23      44      52       0.17       0.39       0.52   \n",
            "4406  2020      3    9    23      45      52       0.17       0.39       0.52   \n",
            "4407  2020      3    9    23      46      52       0.17       0.39       0.52   \n",
            "4408  2020      3    9    23      47      52       0.17       0.39       0.52   \n",
            "\n",
            "      moisture3  moisture4  irrgation  \n",
            "0          0.23       0.02      False  \n",
            "1          0.23       0.02      False  \n",
            "2          0.22       0.02      False  \n",
            "3          0.21       0.02      False  \n",
            "4          0.21       0.02      False  \n",
            "...         ...        ...        ...  \n",
            "4404       0.12       0.03      False  \n",
            "4405       0.12       0.03      False  \n",
            "4406       0.12       0.03      False  \n",
            "4407       0.12       0.03      False  \n",
            "4408       0.12       0.03      False  \n",
            "\n",
            "[4409 rows x 12 columns]\n"
          ]
        }
      ],
      "source": [
        "import pandas as pd\n",
        "data = pd.read_csv(\"plant_vase1.csv\")\n",
        "print(data)"
      ]
    },
    {
      "cell_type": "markdown",
      "source": [],
      "metadata": {
        "id": "lXpsZbNbvu4W"
      }
    },
    {
      "cell_type": "code",
      "source": [
        "print(data.head())  # Display the first few rows of the DataFrame\n"
      ],
      "metadata": {
        "colab": {
          "base_uri": "https://localhost:8080/"
        },
        "id": "L9jmj7gnvvXC",
        "outputId": "0975935f-7a26-4ba1-ba35-be198aca856f"
      },
      "execution_count": null,
      "outputs": [
        {
          "output_type": "stream",
          "name": "stdout",
          "text": [
            "   year  month  day  hour  minute  second  moisture0  moisture1  moisture2  \\\n",
            "0  2020      3    6    22      16      11       0.33       0.40       0.36   \n",
            "1  2020      3    6    22      17      11       0.32       0.39       0.35   \n",
            "2  2020      3    6    22      18      11       0.31       0.39       0.34   \n",
            "3  2020      3    6    22      19      11       0.30       0.38       0.33   \n",
            "4  2020      3    6    22      20      11       0.29       0.38       0.33   \n",
            "\n",
            "   moisture3  moisture4  irrgation  \n",
            "0       0.23       0.02      False  \n",
            "1       0.23       0.02      False  \n",
            "2       0.22       0.02      False  \n",
            "3       0.21       0.02      False  \n",
            "4       0.21       0.02      False  \n"
          ]
        }
      ]
    },
    {
      "cell_type": "code",
      "source": [
        "# Check for missing values\n",
        "print(data.isnull().sum())\n",
        "\n",
        "# Handle missing values (example: drop rows with missing values)\n",
        "data.dropna(inplace=True)\n"
      ],
      "metadata": {
        "colab": {
          "base_uri": "https://localhost:8080/"
        },
        "id": "mFfgQIdXvxUc",
        "outputId": "8f836427-6a52-4ac1-e7e1-0141cd50777d"
      },
      "execution_count": null,
      "outputs": [
        {
          "output_type": "stream",
          "name": "stdout",
          "text": [
            "year         0\n",
            "month        0\n",
            "day          0\n",
            "hour         0\n",
            "minute       0\n",
            "second       0\n",
            "moisture0    0\n",
            "moisture1    0\n",
            "moisture2    0\n",
            "moisture3    0\n",
            "moisture4    0\n",
            "irrgation    0\n",
            "dtype: int64\n"
          ]
        }
      ]
    },
    {
      "cell_type": "code",
      "source": [
        "print(data.info())\n",
        "print(data.describe())"
      ],
      "metadata": {
        "colab": {
          "base_uri": "https://localhost:8080/"
        },
        "id": "ueoktwTCvxX6",
        "outputId": "c90665ea-2a8c-4be7-e073-f38b5640bcaa"
      },
      "execution_count": null,
      "outputs": [
        {
          "output_type": "stream",
          "name": "stdout",
          "text": [
            "<class 'pandas.core.frame.DataFrame'>\n",
            "RangeIndex: 4409 entries, 0 to 4408\n",
            "Data columns (total 12 columns):\n",
            " #   Column     Non-Null Count  Dtype  \n",
            "---  ------     --------------  -----  \n",
            " 0   year       4409 non-null   int64  \n",
            " 1   month      4409 non-null   int64  \n",
            " 2   day        4409 non-null   int64  \n",
            " 3   hour       4409 non-null   int64  \n",
            " 4   minute     4409 non-null   int64  \n",
            " 5   second     4409 non-null   int64  \n",
            " 6   moisture0  4409 non-null   float64\n",
            " 7   moisture1  4409 non-null   float64\n",
            " 8   moisture2  4409 non-null   float64\n",
            " 9   moisture3  4409 non-null   float64\n",
            " 10  moisture4  4409 non-null   float64\n",
            " 11  irrgation  4409 non-null   bool   \n",
            "dtypes: bool(1), float64(5), int64(6)\n",
            "memory usage: 383.3 KB\n",
            "None\n",
            "         year   month          day         hour       minute       second  \\\n",
            "count  4409.0  4409.0  4409.000000  4409.000000  4409.000000  4409.000000   \n",
            "mean   2020.0     3.0     7.950102    11.731005    29.526650    29.914947   \n",
            "std       0.0     0.0     0.861432     7.031253    17.275479    16.480486   \n",
            "min    2020.0     3.0     6.000000     0.000000     0.000000     0.000000   \n",
            "25%    2020.0     3.0     7.000000     6.000000    15.000000    16.000000   \n",
            "50%    2020.0     3.0     8.000000    12.000000    30.000000    30.000000   \n",
            "75%    2020.0     3.0     9.000000    18.000000    44.000000    44.000000   \n",
            "max    2020.0     3.0     9.000000    23.000000    59.000000    59.000000   \n",
            "\n",
            "         moisture0    moisture1    moisture2    moisture3    moisture4  \n",
            "count  4409.000000  4409.000000  4409.000000  4409.000000  4409.000000  \n",
            "mean      0.228172     0.414430     0.477097     0.124459     0.026124  \n",
            "std       0.043375     0.191624     0.062849     0.018743     0.008927  \n",
            "min       0.170000     0.140000     0.230000     0.080000     0.010000  \n",
            "25%       0.190000     0.290000     0.470000     0.110000     0.020000  \n",
            "50%       0.220000     0.390000     0.500000     0.120000     0.020000  \n",
            "75%       0.270000     0.450000     0.510000     0.130000     0.030000  \n",
            "max       0.360000     0.960000     0.560000     0.240000     0.110000  \n"
          ]
        }
      ]
    },
    {
      "cell_type": "code",
      "source": [
        "# Input dataset (features)\n",
        "X = data.drop(columns=['irrgation'])\n",
        "\n",
        "# Output dataset (target)\n",
        "y = data['irrgation']\n"
      ],
      "metadata": {
        "id": "ttuv_GE-vxbp"
      },
      "execution_count": null,
      "outputs": []
    },
    {
      "cell_type": "code",
      "source": [
        "from sklearn.model_selection import train_test_split\n",
        "\n",
        "X = data.drop(columns=['irrgation'])\n",
        "y = data['irrgation']\n",
        "\n",
        "X_train, X_test, y_train, y_test = train_test_split(X, y, test_size=0.2, random_state=42)\n"
      ],
      "metadata": {
        "id": "5alBWDBIvxel"
      },
      "execution_count": null,
      "outputs": []
    },
    {
      "cell_type": "code",
      "source": [
        "print(X_train)\n",
        "print(X_test)\n",
        "print(y_train)\n",
        "print(y_test)"
      ],
      "metadata": {
        "colab": {
          "base_uri": "https://localhost:8080/"
        },
        "id": "01-dyh8Avxhl",
        "outputId": "2c1622ed-7651-4f2a-e01a-d656788c2d3b"
      },
      "execution_count": null,
      "outputs": [
        {
          "output_type": "stream",
          "name": "stdout",
          "text": [
            "      year  month  day  hour  minute  second  moisture0  moisture1  moisture2  \\\n",
            "655   2020      3    7     9      11      44       0.20       0.57       0.48   \n",
            "4338  2020      3    9    22      37      49       0.18       0.40       0.50   \n",
            "3218  2020      3    9     3      56      53       0.18       0.37       0.49   \n",
            "4210  2020      3    9    20      29      42       0.19       0.41       0.52   \n",
            "1128  2020      3    7    17       5       8       0.29       0.40       0.52   \n",
            "...    ...    ...  ...   ...     ...     ...        ...        ...        ...   \n",
            "3444  2020      3    9     7      43       4       0.18       0.33       0.46   \n",
            "466   2020      3    7     6       2      35       0.21       0.95       0.36   \n",
            "3092  2020      3    9     1      50      46       0.18       0.24       0.51   \n",
            "3772  2020      3    9    13      11      20       0.19       0.39       0.48   \n",
            "860   2020      3    7    12      36      55       0.33       0.59       0.50   \n",
            "\n",
            "      moisture3  moisture4  \n",
            "655        0.12       0.03  \n",
            "4338       0.12       0.03  \n",
            "3218       0.11       0.02  \n",
            "4210       0.13       0.03  \n",
            "1128       0.12       0.02  \n",
            "...         ...        ...  \n",
            "3444       0.11       0.02  \n",
            "466        0.13       0.04  \n",
            "3092       0.10       0.02  \n",
            "3772       0.14       0.04  \n",
            "860        0.11       0.02  \n",
            "\n",
            "[3527 rows x 11 columns]\n",
            "      year  month  day  hour  minute  second  moisture0  moisture1  moisture2  \\\n",
            "2983  2020      3    9     0       1      41       0.19       0.59       0.52   \n",
            "1499  2020      3    7    23      16      27       0.28       0.87       0.51   \n",
            "4112  2020      3    9    18      51      37       0.19       0.41       0.54   \n",
            "478   2020      3    7     6      14      36       0.26       0.95       0.39   \n",
            "530   2020      3    7     7       6      38       0.21       0.95       0.41   \n",
            "...    ...    ...  ...   ...     ...     ...        ...        ...        ...   \n",
            "2662  2020      3    8    18      40      25       0.23       0.44       0.53   \n",
            "1727  2020      3    8     3       4      38       0.27       0.26       0.50   \n",
            "321   2020      3    7     3      37      28       0.21       0.39       0.32   \n",
            "897   2020      3    7    13      13      57       0.30       0.34       0.50   \n",
            "2284  2020      3    8    12      22       6       0.25       0.17       0.50   \n",
            "\n",
            "      moisture3  moisture4  \n",
            "2983       0.12       0.02  \n",
            "1499       0.11       0.02  \n",
            "4112       0.14       0.03  \n",
            "478        0.16       0.06  \n",
            "530        0.17       0.04  \n",
            "...         ...        ...  \n",
            "2662       0.16       0.02  \n",
            "1727       0.12       0.03  \n",
            "321        0.12       0.02  \n",
            "897        0.12       0.02  \n",
            "2284       0.12       0.02  \n",
            "\n",
            "[882 rows x 11 columns]\n",
            "655     False\n",
            "4338    False\n",
            "3218    False\n",
            "4210    False\n",
            "1128    False\n",
            "        ...  \n",
            "3444    False\n",
            "466     False\n",
            "3092    False\n",
            "3772    False\n",
            "860     False\n",
            "Name: irrgation, Length: 3527, dtype: bool\n",
            "2983    False\n",
            "1499    False\n",
            "4112    False\n",
            "478     False\n",
            "530     False\n",
            "        ...  \n",
            "2662    False\n",
            "1727    False\n",
            "321     False\n",
            "897     False\n",
            "2284    False\n",
            "Name: irrgation, Length: 882, dtype: bool\n"
          ]
        }
      ]
    },
    {
      "cell_type": "code",
      "source": [
        "# PCA IMAGE RECOGNITION\n",
        "\"\"\"Fit and Transform the Features:\n",
        "The next line combines two operations:\n",
        "fitting and transforming. When you fit a scaler,\n",
        "it computes the mean and standard deviation of each feature in your dataset.\n",
        "After fitting, the same instance is used to transform your data by subtracting the mean and dividing by the standard deviation.\"\"\"\n",
        "from sklearn.preprocessing import StandardScaler\n",
        "from sklearn.decomposition import PCA\n",
        "\n",
        "# Create a StandardScaler instance\n",
        "scaler = StandardScaler()\n",
        "\n",
        "# Fit and transform the features to have mean=0 and variance=1\n",
        "X_scaled = scaler.fit_transform(X)\n",
        "# Create a PCA instance with desired number of components\n",
        "pca = PCA(n_components=2)  # Example: Reducing to 2 principal components\n",
        "\n",
        "# Fit PCA on the scaled data\n",
        "X_pca = pca.fit_transform(X_scaled)\n",
        "\n",
        "# Explained variance ratio\n",
        "explained_variance_ratio = pca.explained_variance_ratio_\n",
        "print(\"Explained Variance Ratio:\", explained_variance_ratio)"
      ],
      "metadata": {
        "colab": {
          "base_uri": "https://localhost:8080/"
        },
        "id": "IoYTjbOdvxki",
        "outputId": "15d382b7-b642-4eb4-f132-8eb0b266659b"
      },
      "execution_count": null,
      "outputs": [
        {
          "output_type": "stream",
          "name": "stdout",
          "text": [
            "Explained Variance Ratio: [0.21045103 0.18325989]\n"
          ]
        }
      ]
    },
    {
      "cell_type": "code",
      "source": [
        "import matplotlib.pyplot as plt\n",
        "\n",
        "plt.scatter(X_pca[:, 0], X_pca[:, 1])\n",
        "plt.xlabel('Principal Component 1')\n",
        "plt.ylabel('Principal Component 2')\n",
        "plt.title('PCA Transformed Data')\n",
        "plt.show()\n"
      ],
      "metadata": {
        "colab": {
          "base_uri": "https://localhost:8080/",
          "height": 472
        },
        "id": "_NXSMFcsxFmH",
        "outputId": "63aa5af9-6ff6-4841-8164-4702f82bd758"
      },
      "execution_count": null,
      "outputs": [
        {
          "output_type": "display_data",
          "data": {
            "text/plain": [
              "<Figure size 640x480 with 1 Axes>"
            ],
            "image/png": "[encoded data removed]"
          },
          "metadata": {}
        }
      ]
    },
    {
      "cell_type": "code",
      "source": [
        "from sklearn.model_selection import train_test_split\n",
        "from sklearn.linear_model import LogisticRegression\n",
        "from sklearn.metrics import accuracy_score\n",
        "\n",
        "# Assuming you have already loaded X_pca and y\n",
        "\n",
        "# Split the transformed data into training and testing sets\n",
        "X_train, X_test, y_train, y_test = train_test_split(X_pca, y, test_size=0.2, random_state=42)\n",
        "\n",
        "# Ensure that y has at least two classes\n",
        "# Example: Converting boolean values to integers\n",
        "y_train = y_train.astype(int)\n",
        "y_test = y_test.astype(int)\n",
        "\n",
        "# Create a Logistic Regression model instance\n",
        "logreg = LogisticRegression()\n",
        "\n",
        "# Fit the model on the training data\n",
        "logreg.fit(X_train, y_train)\n",
        "\n",
        "# Predict using the model\n",
        "y_pred = logreg.predict(X_test)\n",
        "\n",
        "# Calculate accuracy\n",
        "accuracy = accuracy_score(y_test, y_pred)\n",
        "print(\"Accuracy:\", accuracy)\n",
        "\n"
      ],
      "metadata": {
        "colab": {
          "base_uri": "https://localhost:8080/"
        },
        "id": "e6NKjSgIvxsG",
        "outputId": "9f0a3129-fa64-4510-ed0e-58e4269cb4d0"
      },
      "execution_count": null,
      "outputs": [
        {
          "output_type": "stream",
          "name": "stdout",
          "text": [
            "Accuracy: 0.9875283446712018\n"
          ]
        }
      ]
    },
    {
      "cell_type": "code",
      "source": [
        "from sklearn.metrics import classification_report\n",
        "\n",
        "# Calculate classification report\n",
        "class_report = classification_report(y_test, y_pred, target_names=[\"False\", \"True\"])\n",
        "print(\"Classification Report:\\n\", class_report)\n"
      ],
      "metadata": {
        "colab": {
          "base_uri": "https://localhost:8080/"
        },
        "id": "hpqECVdOwHur",
        "outputId": "5c314867-6ee7-47bb-afd7-1ff5fea190cc"
      },
      "execution_count": null,
      "outputs": [
        {
          "output_type": "stream",
          "name": "stdout",
          "text": [
            "Classification Report:\n",
            "               precision    recall  f1-score   support\n",
            "\n",
            "       False       0.99      1.00      0.99       871\n",
            "        True       0.00      0.00      0.00        11\n",
            "\n",
            "    accuracy                           0.99       882\n",
            "   macro avg       0.49      0.50      0.50       882\n",
            "weighted avg       0.98      0.99      0.98       882\n",
            "\n"
          ]
        },
        {
          "output_type": "stream",
          "name": "stderr",
          "text": [
            "/usr/local/lib/python3.10/dist-packages/sklearn/metrics/_classification.py:1344: UndefinedMetricWarning: Precision and F-score are ill-defined and being set to 0.0 in labels with no predicted samples. Use `zero_division` parameter to control this behavior.\n",
            "  _warn_prf(average, modifier, msg_start, len(result))\n",
            "/usr/local/lib/python3.10/dist-packages/sklearn/metrics/_classification.py:1344: UndefinedMetricWarning: Precision and F-score are ill-defined and being set to 0.0 in labels with no predicted samples. Use `zero_division` parameter to control this behavior.\n",
            "  _warn_prf(average, modifier, msg_start, len(result))\n",
            "/usr/local/lib/python3.10/dist-packages/sklearn/metrics/_classification.py:1344: UndefinedMetricWarning: Precision and F-score are ill-defined and being set to 0.0 in labels with no predicted samples. Use `zero_division` parameter to control this behavior.\n",
            "  _warn_prf(average, modifier, msg_start, len(result))\n"
          ]
        }
      ]
    },
    {
      "cell_type": "code",
      "source": [
        "from sklearn.metrics import cohen_kappa_score\n",
        "\n",
        "# Calculate Cohen's Kappa score\n",
        "kappa = cohen_kappa_score(y_test, y_pred)\n",
        "print(\"Cohen's Kappa Score:\", kappa)\n"
      ],
      "metadata": {
        "colab": {
          "base_uri": "https://localhost:8080/"
        },
        "id": "BmSx7dTzwIYR",
        "outputId": "8e09b33d-0486-41ed-e37c-3e95c7fc70d7"
      },
      "execution_count": null,
      "outputs": [
        {
          "output_type": "stream",
          "name": "stdout",
          "text": [
            "Cohen's Kappa Score: 0.0\n"
          ]
        }
      ]
    },
    {
      "cell_type": "code",
      "source": [
        "#overall code in short\n",
        "\n",
        "import pandas as pd\n",
        "import matplotlib.pyplot as plt\n",
        "from sklearn.preprocessing import StandardScaler\n",
        "from sklearn.decomposition import PCA\n",
        "from sklearn.model_selection import train_test_split\n",
        "from sklearn.linear_model import LogisticRegression\n",
        "from sklearn.metrics import accuracy_score\n",
        "\n",
        "# Load the data\n",
        "data = pd.read_csv(\"plant_vase1.csv\")\n",
        "\n",
        "# Check for missing values\n",
        "print(data.isnull().sum())\n",
        "\n",
        "# Handle missing values by dropping rows\n",
        "data.dropna(inplace=True)\n",
        "\n",
        "# Input dataset (features)\n",
        "X = data.drop(columns=['irrgation'])\n",
        "\n",
        "# Output dataset (target)\n",
        "y = data['irrgation']\n",
        "\n",
        "# Split the data into training and testing sets\n",
        "X_train, X_test, y_train, y_test = train_test_split(X, y, test_size=0.2, random_state=42)\n",
        "\n",
        "# Standardize the features\n",
        "scaler = StandardScaler()\n",
        "X_scaled = scaler.fit_transform(X)\n",
        "\n",
        "# Apply PCA\n",
        "pca = PCA(n_components=2)\n",
        "X_pca = pca.fit_transform(X_scaled)\n",
        "\n",
        "# Explained variance ratio\n",
        "explained_variance_ratio = pca.explained_variance_ratio_\n",
        "print(\"Explained Variance Ratio:\", explained_variance_ratio)\n",
        "\n",
        "# Visualize PCA transformed data\n",
        "plt.scatter(X_pca[:, 0], X_pca[:, 1])\n",
        "plt.xlabel('Principal Component 1')\n",
        "plt.ylabel('Principal Component 2')\n",
        "plt.title('PCA Transformed Data')\n",
        "plt.show()\n",
        "\n",
        "# Convert target to integers\n",
        "y_train = y_train.astype(int)\n",
        "y_test = y_test.astype(int)\n",
        "\n",
        "# Create and fit a Logistic Regression model\n",
        "logreg = LogisticRegression()\n",
        "logreg.fit(X_train, y_train)\n",
        "\n",
        "# Predict using the model\n",
        "y_pred = logreg.predict(X_test)\n",
        "\n",
        "# Calculate accuracy\n",
        "accuracy = accuracy_score(y_test, y_pred)\n",
        "print(\"PCA Accuracy:\", accuracy)\n"
      ],
      "metadata": {
        "colab": {
          "base_uri": "https://localhost:8080/",
          "height": 908
        },
        "id": "7i58oBSawAW_",
        "outputId": "b8262f14-b633-44bd-edaa-6d16963e5d42"
      },
      "execution_count": null,
      "outputs": [
        {
          "output_type": "stream",
          "name": "stdout",
          "text": [
            "year         0\n",
            "month        0\n",
            "day          0\n",
            "hour         0\n",
            "minute       0\n",
            "second       0\n",
            "moisture0    0\n",
            "moisture1    0\n",
            "moisture2    0\n",
            "moisture3    0\n",
            "moisture4    0\n",
            "irrgation    0\n",
            "dtype: int64\n",
            "Explained Variance Ratio: [0.21045103 0.18325989]\n"
          ]
        },
        {
          "output_type": "display_data",
          "data": {
            "text/plain": [
              "<Figure size 640x480 with 1 Axes>"
            ],
            "image/png": "[encoded data removed]"
          },
          "metadata": {}
        },
        {
          "output_type": "stream",
          "name": "stdout",
          "text": [
            "PCA Accuracy: 0.9909297052154195\n"
          ]
        },
        {
          "output_type": "stream",
          "name": "stderr",
          "text": [
            "/usr/local/lib/python3.10/dist-packages/sklearn/linear_model/_logistic.py:458: ConvergenceWarning: lbfgs failed to converge (status=1):\n",
            "STOP: TOTAL NO. of ITERATIONS REACHED LIMIT.\n",
            "\n",
            "Increase the number of iterations (max_iter) or scale the data as shown in:\n",
            "    https://scikit-learn.org/stable/modules/preprocessing.html\n",
            "Please also refer to the documentation for alternative solver options:\n",
            "    https://scikit-learn.org/stable/modules/linear_model.html#logistic-regression\n",
            "  n_iter_i = _check_optimize_result(\n"
          ]
        }
      ]
    }
  ]
}