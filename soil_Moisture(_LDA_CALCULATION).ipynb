{
  "nbformat": 4,
  "nbformat_minor": 0,
  "metadata": {
    "colab": {
      "provenance": [],
      "authorship_tag": "ABX9TyM67pEfqg4QxG949qkIcPgj",
      "include_colab_link": true
    },
    "kernelspec": {
      "name": "python3",
      "display_name": "Python 3"
    },
    "language_info": {
      "name": "python"
    }
  },
  "cells": [
    {
      "cell_type": "markdown",
      "metadata": {
        "id": "view-in-github",
        "colab_type": "text"
      },
      "source": [
        "<a href=\"https://colab.research.google.com/github/DigumarthiSrilikhitha/ML_WORKS/blob/main/soil_Moisture(_LDA_CALCULATION).ipynb\" target=\"_parent\"><img src=\"https://colab.research.google.com/assets/colab-badge.svg\" alt=\"Open In Colab\"/></a>"
      ]
    },
    {
      "cell_type": "code",
      "execution_count": 3,
      "metadata": {
        "colab": {
          "base_uri": "https://localhost:8080/"
        },
        "id": "yIrNNvq6SNvb",
        "outputId": "e8530ee3-ff6a-45c1-97dd-ae9ce60633f4"
      },
      "outputs": [
        {
          "output_type": "stream",
          "name": "stdout",
          "text": [
            "Data Overview:\n",
            "   year  month  day  hour  minute  second  moisture0  moisture1  moisture2  \\\n",
            "0  2020      3    6    22      16      11       0.33       0.40       0.36   \n",
            "1  2020      3    6    22      17      11       0.32       0.39       0.35   \n",
            "2  2020      3    6    22      18      11       0.31       0.39       0.34   \n",
            "3  2020      3    6    22      19      11       0.30       0.38       0.33   \n",
            "4  2020      3    6    22      20      11       0.29       0.38       0.33   \n",
            "\n",
            "   moisture3  moisture4  irrgation  \n",
            "0       0.23       0.02      False  \n",
            "1       0.23       0.02      False  \n",
            "2       0.22       0.02      False  \n",
            "3       0.21       0.02      False  \n",
            "4       0.21       0.02      False  \n",
            "         year   month          day         hour       minute       second  \\\n",
            "count  4409.0  4409.0  4409.000000  4409.000000  4409.000000  4409.000000   \n",
            "mean   2020.0     3.0     7.950102    11.731005    29.526650    29.914947   \n",
            "std       0.0     0.0     0.861432     7.031253    17.275479    16.480486   \n",
            "min    2020.0     3.0     6.000000     0.000000     0.000000     0.000000   \n",
            "25%    2020.0     3.0     7.000000     6.000000    15.000000    16.000000   \n",
            "50%    2020.0     3.0     8.000000    12.000000    30.000000    30.000000   \n",
            "75%    2020.0     3.0     9.000000    18.000000    44.000000    44.000000   \n",
            "max    2020.0     3.0     9.000000    23.000000    59.000000    59.000000   \n",
            "\n",
            "         moisture0    moisture1    moisture2    moisture3    moisture4  \n",
            "count  4409.000000  4409.000000  4409.000000  4409.000000  4409.000000  \n",
            "mean      0.228172     0.414430     0.477097     0.124459     0.026124  \n",
            "std       0.043375     0.191624     0.062849     0.018743     0.008927  \n",
            "min       0.170000     0.140000     0.230000     0.080000     0.010000  \n",
            "25%       0.190000     0.290000     0.470000     0.110000     0.020000  \n",
            "50%       0.220000     0.390000     0.500000     0.120000     0.020000  \n",
            "75%       0.270000     0.450000     0.510000     0.130000     0.030000  \n",
            "max       0.360000     0.960000     0.560000     0.240000     0.110000  \n",
            "<class 'pandas.core.frame.DataFrame'>\n",
            "RangeIndex: 4409 entries, 0 to 4408\n",
            "Data columns (total 12 columns):\n",
            " #   Column     Non-Null Count  Dtype  \n",
            "---  ------     --------------  -----  \n",
            " 0   year       4409 non-null   int64  \n",
            " 1   month      4409 non-null   int64  \n",
            " 2   day        4409 non-null   int64  \n",
            " 3   hour       4409 non-null   int64  \n",
            " 4   minute     4409 non-null   int64  \n",
            " 5   second     4409 non-null   int64  \n",
            " 6   moisture0  4409 non-null   float64\n",
            " 7   moisture1  4409 non-null   float64\n",
            " 8   moisture2  4409 non-null   float64\n",
            " 9   moisture3  4409 non-null   float64\n",
            " 10  moisture4  4409 non-null   float64\n",
            " 11  irrgation  4409 non-null   bool   \n",
            "dtypes: bool(1), float64(5), int64(6)\n",
            "memory usage: 383.3 KB\n",
            "None\n",
            "Model Evaluation:\n",
            "Accuracy: 0.9965986394557823\n",
            "Confusion Matrix:\n",
            " [[868   3]\n",
            " [  0  11]]\n",
            "Classification Report:\n",
            "               precision    recall  f1-score   support\n",
            "\n",
            "       False       1.00      1.00      1.00       871\n",
            "        True       0.79      1.00      0.88        11\n",
            "\n",
            "    accuracy                           1.00       882\n",
            "   macro avg       0.89      1.00      0.94       882\n",
            "weighted avg       1.00      1.00      1.00       882\n",
            "\n"
          ]
        }
      ],
      "source": [
        "import pandas as pd\n",
        "import numpy as np\n",
        "import matplotlib.pyplot as plt\n",
        "from sklearn.preprocessing import StandardScaler\n",
        "from sklearn.decomposition import PCA\n",
        "from sklearn.discriminant_analysis import LinearDiscriminantAnalysis\n",
        "from sklearn.model_selection import train_test_split\n",
        "from sklearn.linear_model import LogisticRegression\n",
        "from sklearn.metrics import accuracy_score, confusion_matrix, classification_report\n",
        "\n",
        "# Load the data\n",
        "data = pd.read_csv(\"/plant_vase1.csv\")\n",
        "\n",
        "# Data Exploration\n",
        "print(\"Data Overview:\")\n",
        "print(data.head())\n",
        "print(data.describe())\n",
        "print(data.info())\n",
        "\n",
        "# Handling missing values\n",
        "data.dropna(inplace=True)\n",
        "\n",
        "# Feature Selection and Preprocessing\n",
        "X = data.drop(columns=['irrgation'])\n",
        "y = data['irrgation']\n",
        "\n",
        "# Standardize features\n",
        "scaler = StandardScaler()\n",
        "X_scaled = scaler.fit_transform(X)\n",
        "\n",
        "# Dimensionality Reduction using LDA\n",
        "lda = LinearDiscriminantAnalysis(n_components=1)\n",
        "X_lda = lda.fit_transform(X_scaled, y)\n",
        "\n",
        "# Split data into training and testing sets\n",
        "X_train, X_test, y_train, y_test = train_test_split(X_lda, y, test_size=0.2, random_state=42)\n",
        "\n",
        "# Logistic Regression Model\n",
        "logreg = LogisticRegression()\n",
        "logreg.fit(X_train, y_train)\n",
        "y_pred = logreg.predict(X_test)\n",
        "\n",
        "# Model Evaluation\n",
        "accuracy = accuracy_score(y_test, y_pred)\n",
        "conf_matrix = confusion_matrix(y_test, y_pred)\n",
        "classification_rep = classification_report(y_test, y_pred)\n",
        "\n",
        "print(\"Model Evaluation:\")\n",
        "print(\"Accuracy:\", accuracy)\n",
        "print(\"Confusion Matrix:\\n\", conf_matrix)\n",
        "print(\"Classification Report:\\n\", classification_rep)\n"
      ]
    },
    {
      "cell_type": "code",
      "source": [
        "# Calculate the confusion matrix\n",
        "conf_matrix = confusion_matrix(y_test, y_pred)\n",
        "\n",
        "# Extract values from the confusion matrix\n",
        "tn, fp, fn, tp = conf_matrix.ravel()\n",
        "\n",
        "# Calculate specificity\n",
        "specificity = tn / (tn + fp)\n",
        "print(\"Specificity:\", specificity)\n"
      ],
      "metadata": {
        "colab": {
          "base_uri": "https://localhost:8080/"
        },
        "id": "TPPFQAXHTqrB",
        "outputId": "0c134820-98f0-4594-b2ad-a1320ccb5554"
      },
      "execution_count": 4,
      "outputs": [
        {
          "output_type": "stream",
          "name": "stdout",
          "text": [
            "Specificity: 0.9965556831228473\n"
          ]
        }
      ]
    }
  ]
}