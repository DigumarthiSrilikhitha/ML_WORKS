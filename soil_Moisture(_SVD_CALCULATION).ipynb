{
  "nbformat": 4,
  "nbformat_minor": 0,
  "metadata": {
    "colab": {
      "provenance": [],
      "toc_visible": true,
      "authorship_tag": "ABX9TyNB6oBU2Em4aNYTS6EOGla1",
      "include_colab_link": true
    },
    "kernelspec": {
      "name": "python3",
      "display_name": "Python 3"
    },
    "language_info": {
      "name": "python"
    }
  },
  "cells": [
    {
      "cell_type": "markdown",
      "metadata": {
        "id": "view-in-github",
        "colab_type": "text"
      },
      "source": [
        "<a href=\"https://colab.research.google.com/github/DigumarthiSrilikhitha/ML_WORKS/blob/main/soil_Moisture(_SVD_CALCULATION).ipynb\" target=\"_parent\"><img src=\"https://colab.research.google.com/assets/colab-badge.svg\" alt=\"Open In Colab\"/></a>"
      ]
    },
    {
      "cell_type": "code",
      "execution_count": 5,
      "metadata": {
        "colab": {
          "base_uri": "https://localhost:8080/"
        },
        "id": "6b55336qNllL",
        "outputId": "ddcc48f7-3051-4d1b-ac25-89e10cce0116"
      },
      "outputs": [
        {
          "output_type": "stream",
          "name": "stdout",
          "text": [
            "Dataset Information:\n",
            "<class 'pandas.core.frame.DataFrame'>\n",
            "RangeIndex: 4409 entries, 0 to 4408\n",
            "Data columns (total 12 columns):\n",
            " #   Column     Non-Null Count  Dtype  \n",
            "---  ------     --------------  -----  \n",
            " 0   year       4409 non-null   int64  \n",
            " 1   month      4409 non-null   int64  \n",
            " 2   day        4409 non-null   int64  \n",
            " 3   hour       4409 non-null   int64  \n",
            " 4   minute     4409 non-null   int64  \n",
            " 5   second     4409 non-null   int64  \n",
            " 6   moisture0  4409 non-null   float64\n",
            " 7   moisture1  4409 non-null   float64\n",
            " 8   moisture2  4409 non-null   float64\n",
            " 9   moisture3  4409 non-null   float64\n",
            " 10  moisture4  4409 non-null   float64\n",
            " 11  irrgation  4409 non-null   bool   \n",
            "dtypes: bool(1), float64(5), int64(6)\n",
            "memory usage: 383.3 KB\n",
            "None\n",
            "\n",
            "First Few Rows of the Dataset:\n",
            "   year  month  day  hour  minute  second  moisture0  moisture1  moisture2  \\\n",
            "0  2020      3    6    22      16      11       0.33       0.40       0.36   \n",
            "1  2020      3    6    22      17      11       0.32       0.39       0.35   \n",
            "2  2020      3    6    22      18      11       0.31       0.39       0.34   \n",
            "3  2020      3    6    22      19      11       0.30       0.38       0.33   \n",
            "4  2020      3    6    22      20      11       0.29       0.38       0.33   \n",
            "\n",
            "   moisture3  moisture4  irrgation  \n",
            "0       0.23       0.02      False  \n",
            "1       0.23       0.02      False  \n",
            "2       0.22       0.02      False  \n",
            "3       0.21       0.02      False  \n",
            "4       0.21       0.02      False  \n",
            "\n",
            "Summary Statistics:\n",
            "         year   month          day         hour       minute       second  \\\n",
            "count  4409.0  4409.0  4409.000000  4409.000000  4409.000000  4409.000000   \n",
            "mean   2020.0     3.0     7.950102    11.731005    29.526650    29.914947   \n",
            "std       0.0     0.0     0.861432     7.031253    17.275479    16.480486   \n",
            "min    2020.0     3.0     6.000000     0.000000     0.000000     0.000000   \n",
            "25%    2020.0     3.0     7.000000     6.000000    15.000000    16.000000   \n",
            "50%    2020.0     3.0     8.000000    12.000000    30.000000    30.000000   \n",
            "75%    2020.0     3.0     9.000000    18.000000    44.000000    44.000000   \n",
            "max    2020.0     3.0     9.000000    23.000000    59.000000    59.000000   \n",
            "\n",
            "         moisture0    moisture1    moisture2    moisture3    moisture4  \n",
            "count  4409.000000  4409.000000  4409.000000  4409.000000  4409.000000  \n",
            "mean      0.228172     0.414430     0.477097     0.124459     0.026124  \n",
            "std       0.043375     0.191624     0.062849     0.018743     0.008927  \n",
            "min       0.170000     0.140000     0.230000     0.080000     0.010000  \n",
            "25%       0.190000     0.290000     0.470000     0.110000     0.020000  \n",
            "50%       0.220000     0.390000     0.500000     0.120000     0.020000  \n",
            "75%       0.270000     0.450000     0.510000     0.130000     0.030000  \n",
            "max       0.360000     0.960000     0.560000     0.240000     0.110000  \n",
            "\n",
            "Model Performance:\n",
            "Accuracy: 0.9875283446712018\n",
            "\n",
            "Confusion Matrix:\n",
            "[[871   0]\n",
            " [ 11   0]]\n",
            "\n",
            "Classification Report:\n",
            "              precision    recall  f1-score   support\n",
            "\n",
            "       False       0.99      1.00      0.99       871\n",
            "        True       0.00      0.00      0.00        11\n",
            "\n",
            "    accuracy                           0.99       882\n",
            "   macro avg       0.49      0.50      0.50       882\n",
            "weighted avg       0.98      0.99      0.98       882\n",
            "\n",
            "\n",
            "Cohen's Kappa Score: 0.0\n"
          ]
        },
        {
          "output_type": "stream",
          "name": "stderr",
          "text": [
            "/usr/local/lib/python3.10/dist-packages/sklearn/metrics/_classification.py:1344: UndefinedMetricWarning: Precision and F-score are ill-defined and being set to 0.0 in labels with no predicted samples. Use `zero_division` parameter to control this behavior.\n",
            "  _warn_prf(average, modifier, msg_start, len(result))\n",
            "/usr/local/lib/python3.10/dist-packages/sklearn/metrics/_classification.py:1344: UndefinedMetricWarning: Precision and F-score are ill-defined and being set to 0.0 in labels with no predicted samples. Use `zero_division` parameter to control this behavior.\n",
            "  _warn_prf(average, modifier, msg_start, len(result))\n",
            "/usr/local/lib/python3.10/dist-packages/sklearn/metrics/_classification.py:1344: UndefinedMetricWarning: Precision and F-score are ill-defined and being set to 0.0 in labels with no predicted samples. Use `zero_division` parameter to control this behavior.\n",
            "  _warn_prf(average, modifier, msg_start, len(result))\n"
          ]
        }
      ],
      "source": [
        "import pandas as pd\n",
        "from sklearn.preprocessing import StandardScaler\n",
        "from sklearn.decomposition import TruncatedSVD\n",
        "from sklearn.model_selection import train_test_split\n",
        "from sklearn.linear_model import LogisticRegression\n",
        "from sklearn.metrics import accuracy_score, confusion_matrix, classification_report, cohen_kappa_score\n",
        "\n",
        "# Load the data\n",
        "data = pd.read_csv(\"/plant_vase1.csv\")\n",
        "\n",
        "# Display basic information about the dataset\n",
        "print(\"Dataset Information:\")\n",
        "print(data.info())\n",
        "\n",
        "# Display the first few rows of the dataset\n",
        "print(\"\\nFirst Few Rows of the Dataset:\")\n",
        "print(data.head())\n",
        "\n",
        "# Check for missing values and handle them by dropping rows with missing values\n",
        "data.dropna(inplace=True)\n",
        "\n",
        "# Display summary statistics of the dataset\n",
        "print(\"\\nSummary Statistics:\")\n",
        "print(data.describe())\n",
        "\n",
        "# Input dataset (features)\n",
        "X = data.drop(columns=['irrgation'])\n",
        "\n",
        "# Output dataset (target)\n",
        "y = data['irrgation']\n",
        "\n",
        "# Split the data into training and testing sets\n",
        "X_train, X_test, y_train, y_test = train_test_split(X, y, test_size=0.2, random_state=42)\n",
        "\n",
        "# Standardize the features using StandardScaler\n",
        "scaler = StandardScaler()\n",
        "X_train_scaled = scaler.fit_transform(X_train)\n",
        "X_test_scaled = scaler.transform(X_test)\n",
        "\n",
        "# Apply SVD for dimensionality reduction (feature extraction)\n",
        "svd = TruncatedSVD(n_components=2)\n",
        "X_train_svd = svd.fit_transform(X_train_scaled)\n",
        "X_test_svd = svd.transform(X_test_scaled)\n",
        "\n",
        "# Create and fit a Logistic Regression model\n",
        "logreg = LogisticRegression()\n",
        "logreg.fit(X_train_svd, y_train)\n",
        "\n",
        "# Predict using the model\n",
        "y_pred = logreg.predict(X_test_svd)\n",
        "\n",
        "# Calculate accuracy\n",
        "accuracy = accuracy_score(y_test, y_pred)\n",
        "print(\"\\nModel Performance:\")\n",
        "print(\"Accuracy:\", accuracy)\n",
        "\n",
        "# Calculate confusion matrix\n",
        "conf_matrix = confusion_matrix(y_test, y_pred)\n",
        "print(\"\\nConfusion Matrix:\")\n",
        "print(conf_matrix)\n",
        "\n",
        "# Print classification report\n",
        "class_report = classification_report(y_test, y_pred)\n",
        "print(\"\\nClassification Report:\")\n",
        "print(class_report)\n",
        "\n",
        "# Calculate Cohen's Kappa Score\n",
        "kappa_score = cohen_kappa_score(y_test, y_pred)\n",
        "print(\"\\nCohen's Kappa Score:\", kappa_score)\n"
      ]
    },
    {
      "cell_type": "code",
      "source": [
        "from sklearn.metrics import confusion_matrix\n",
        "\n",
        "# Calculate the confusion matrix\n",
        "conf_matrix = confusion_matrix(y_test, y_pred)\n",
        "\n",
        "# Extract values from the confusion matrix\n",
        "tn, fp, fn, tp = conf_matrix.ravel()\n",
        "\n",
        "# Calculate specificity\n",
        "specificity = tn / (tn + fp)\n",
        "print(\"Specificity:\", specificity)\n"
      ],
      "metadata": {
        "colab": {
          "base_uri": "https://localhost:8080/"
        },
        "id": "xQ9C50kiQT-v",
        "outputId": "b40c25b3-40dd-4865-8a5e-efcb2760dd22"
      },
      "execution_count": 6,
      "outputs": [
        {
          "output_type": "stream",
          "name": "stdout",
          "text": [
            "Specificity: 1.0\n"
          ]
        }
      ]
    }
  ]
}