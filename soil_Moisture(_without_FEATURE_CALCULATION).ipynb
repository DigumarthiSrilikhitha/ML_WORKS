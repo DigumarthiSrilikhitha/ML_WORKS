{
  "nbformat": 4,
  "nbformat_minor": 0,
  "metadata": {
    "colab": {
      "provenance": [],
      "authorship_tag": "ABX9TyOTFOuFwANcztKxBFbz6zjy",
      "include_colab_link": true
    },
    "kernelspec": {
      "name": "python3",
      "display_name": "Python 3"
    },
    "language_info": {
      "name": "python"
    }
  },
  "cells": [
    {
      "cell_type": "markdown",
      "metadata": {
        "id": "view-in-github",
        "colab_type": "text"
      },
      "source": [
        "<a href=\"https://colab.research.google.com/github/DigumarthiSrilikhitha/ML_WORKS/blob/main/soil_Moisture(_without_FEATURE_CALCULATION).ipynb\" target=\"_parent\"><img src=\"https://colab.research.google.com/assets/colab-badge.svg\" alt=\"Open In Colab\"/></a>"
      ]
    },
    {
      "cell_type": "code",
      "execution_count": 4,
      "metadata": {
        "colab": {
          "base_uri": "https://localhost:8080/"
        },
        "id": "os-8ls9BWFu9",
        "outputId": "261ab5c0-e2ee-4751-eec8-7682ff1120ad"
      },
      "outputs": [
        {
          "output_type": "stream",
          "name": "stdout",
          "text": [
            "Model Evaluation:\n",
            "Accuracy: 0.9977324263038548\n",
            "Confusion Matrix:\n",
            " [[869   2]\n",
            " [  0  11]]\n",
            "Specificity: 0.9977037887485649\n",
            "Cohen's Kappa Score: 0.9155253328225266\n"
          ]
        }
      ],
      "source": [
        "import pandas as pd\n",
        "from sklearn.preprocessing import StandardScaler\n",
        "from sklearn.model_selection import train_test_split\n",
        "from sklearn.linear_model import LogisticRegression\n",
        "from sklearn.metrics import accuracy_score, confusion_matrix, classification_report, cohen_kappa_score\n",
        "\n",
        "# Load the data\n",
        "data = pd.read_csv(\"/content/plant_vase1.csv\")\n",
        "\n",
        "# Handling missing values\n",
        "data.dropna(inplace=True)\n",
        "\n",
        "# Feature Selection and Preprocessing\n",
        "X = data.drop(columns=['irrgation'])\n",
        "y = data['irrgation']\n",
        "\n",
        "# Standardize features\n",
        "scaler = StandardScaler()\n",
        "X_scaled = scaler.fit_transform(X)\n",
        "\n",
        "# Split data into training and testing sets\n",
        "X_train, X_test, y_train, y_test = train_test_split(X_scaled, y, test_size=0.2, random_state=42)\n",
        "\n",
        "# Logistic Regression Model\n",
        "logreg = LogisticRegression()\n",
        "logreg.fit(X_train, y_train)\n",
        "y_pred = logreg.predict(X_test)\n",
        "\n",
        "# Model Evaluation\n",
        "accuracy = accuracy_score(y_test, y_pred)\n",
        "conf_matrix = confusion_matrix(y_test, y_pred)\n",
        "\n",
        "# Calculate specificity\n",
        "tn, fp, fn, tp = conf_matrix.ravel()\n",
        "specificity = tn / (tn + fp)\n",
        "\n",
        "# Calculate Cohen's Kappa Score\n",
        "kappa_score = cohen_kappa_score(y_test, y_pred)\n",
        "\n",
        "# Display Results\n",
        "print(\"Model Evaluation:\")\n",
        "print(\"Accuracy:\", accuracy)\n",
        "print(\"Confusion Matrix:\\n\", conf_matrix)\n",
        "print(\"Specificity:\", specificity)\n",
        "print(\"Cohen's Kappa Score:\", kappa_score)\n"
      ]
    },
    {
      "cell_type": "code",
      "source": [
        "import pandas as pd\n",
        "from sklearn.preprocessing import StandardScaler\n",
        "from sklearn.model_selection import train_test_split\n",
        "from sklearn.linear_model import LogisticRegression\n",
        "from sklearn.metrics import accuracy_score, confusion_matrix, classification_report\n",
        "\n",
        "# Load the data\n",
        "data = pd.read_csv(\"plant_vase1.csv\")\n",
        "\n",
        "# Handling missing values\n",
        "data.dropna(inplace=True)\n",
        "\n",
        "# Feature Selection and Preprocessing\n",
        "X = data.drop(columns=['irrgation'])\n",
        "y = data['irrgation']\n",
        "\n",
        "# Standardize features\n",
        "scaler = StandardScaler()\n",
        "X_scaled = scaler.fit_transform(X)\n",
        "\n",
        "# Split data into training and testing sets\n",
        "X_train, X_test, y_train, y_test = train_test_split(X_scaled, y, test_size=0.2, random_state=42)\n",
        "\n",
        "# Logistic Regression Model\n",
        "logreg = LogisticRegression()\n",
        "logreg.fit(X_train, y_train)\n",
        "y_pred = logreg.predict(X_test)\n",
        "\n",
        "# Model Evaluation\n",
        "accuracy = accuracy_score(y_test, y_pred)\n",
        "conf_matrix = confusion_matrix(y_test, y_pred)\n",
        "classification_rep = classification_report(y_test, y_pred)\n",
        "\n",
        "# Extract values from the confusion matrix\n",
        "tn, fp, fn, tp = conf_matrix.ravel()\n",
        "\n",
        "# Calculate specificity\n",
        "specificity = tn / (tn + fp)\n",
        "\n",
        "# Display Results\n",
        "print(\"Model Evaluation:\")\n",
        "print(\"Accuracy:\", accuracy)\n",
        "print(\"Confusion Matrix:\\n\", conf_matrix)\n",
        "print(\"Specificity:\", specificity)\n",
        "print(\"Classification Report:\\n\", classification_rep)\n"
      ],
      "metadata": {
        "colab": {
          "base_uri": "https://localhost:8080/"
        },
        "id": "lePsy2a5XFiK",
        "outputId": "9c98e8d1-e3db-47e3-96da-7cdfc5344379"
      },
      "execution_count": 3,
      "outputs": [
        {
          "output_type": "stream",
          "name": "stdout",
          "text": [
            "Model Evaluation:\n",
            "Accuracy: 0.9977324263038548\n",
            "Confusion Matrix:\n",
            " [[869   2]\n",
            " [  0  11]]\n",
            "Specificity: 0.9977037887485649\n",
            "Classification Report:\n",
            "               precision    recall  f1-score   support\n",
            "\n",
            "       False       1.00      1.00      1.00       871\n",
            "        True       0.85      1.00      0.92        11\n",
            "\n",
            "    accuracy                           1.00       882\n",
            "   macro avg       0.92      1.00      0.96       882\n",
            "weighted avg       1.00      1.00      1.00       882\n",
            "\n"
          ]
        }
      ]
    }
  ]
}